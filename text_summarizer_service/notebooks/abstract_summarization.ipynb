{
 "cells": [
  {
   "cell_type": "code",
   "execution_count": null,
   "metadata": {},
   "outputs": [],
   "source": [
    "# Testing abstract summarization with pegasus\n",
    "# Deps:\n",
    "# - pytorch (pip3 install torch torchvision torchaudio --extra-index-url https://download.pytorch.org/whl/cpu)\n",
    "# - pip install transformers\n",
    "# - pip install sentencepiece"
   ]
  },
  {
   "cell_type": "code",
   "execution_count": 1,
   "metadata": {},
   "outputs": [],
   "source": [
    "# import dependencies\n",
    "from transformers import PegasusForConditionalGeneration, PegasusTokenizer"
   ]
  },
  {
   "cell_type": "code",
   "execution_count": 2,
   "metadata": {},
   "outputs": [],
   "source": [
    "# create tokenizer\n",
    "# tokenizer = PegasusTokenizer.from_pretrained(\"google/pegasus-xsum\")\n",
    "tokenizer = PegasusTokenizer.from_pretrained(\"google/pegasus-pubmed\")"
   ]
  },
  {
   "cell_type": "code",
   "execution_count": 3,
   "metadata": {},
   "outputs": [],
   "source": [
    "# load model\n",
    "# model = PegasusForConditionalGeneration.from_pretrained(\"google/pegasus-xsum\")\n",
    "model = PegasusForConditionalGeneration.from_pretrained(\"google/pegasus-pubmed\")"
   ]
  },
  {
   "cell_type": "code",
   "execution_count": 4,
   "metadata": {},
   "outputs": [],
   "source": [
    "# example text\n",
    "text = \"\"\"\n",
    "Artificial neural networks (ANNs), usually simply called neural networks (NNs) or neural nets, are computing systems inspired by the biological neural networks that constitute animal brains. An ANN is based on a collection of connected units or nodes called artificial neurons, which loosely model the neurons in a biological brain. Each connection, like the synapses in a biological brain, can transmit a signal to other neurons. An artificial neuron receives signals then processes them and can signal neurons connected to it. The \"signal\" at a connection is a real number, and the output of each neuron is computed by some non-linear function of the sum of its inputs. The connections are called edges. Neurons and edges typically have a weight that adjusts as learning proceeds. The weight increases or decreases the strength of the signal at a connection. Neurons may have a threshold such that a signal is sent only if the aggregate signal crosses that threshold.\n",
    "\"\"\"\n",
    "\n",
    "pubmed_text = \"\"\"\n",
    "N-acetylcysteine (NAC), which is an acetylated cysteine compound, has aroused scientific interest for decades due to its important medical applications. It also represents a nutritional supplement in the human diet. NAC is a glutathione precursor and shows antioxidant and anti-inflammatory activities. In addition to the uses quoted in the literature, NAC may be considered helpful in therapies to counteract neurodegenerative and mental health diseases. Furthermore, this compound has been evaluated for its neuroprotective potential in the prevention of cognitive aging dementia. NAC is inexpensive, commercially available and no relevant side effects were observed after its administration. The purpose of this paper is to give an overview on the effects and applications of NAC in Parkinson's and Alzheimer's disorders and in neuropathic pain and stroke.\n",
    "\"\"\""
   ]
  },
  {
   "cell_type": "code",
   "execution_count": 5,
   "metadata": {},
   "outputs": [],
   "source": [
    "# convert to tokens\n",
    "# tokens = tokenizer(text, truncation=True, padding=\"longest\", return_tensors=\"pt\")\n",
    "\n",
    "pubmed_tokens = tokenizer(pubmed_text, truncation=True, padding=\"longest\", return_tensors=\"pt\")"
   ]
  },
  {
   "cell_type": "code",
   "execution_count": 7,
   "metadata": {},
   "outputs": [
    {
     "data": {
      "text/plain": [
       "{'input_ids': tensor([[16882, 14849,  3296,   143, 45884,   116,   312,   832,   705,   568,\n",
       "         14849,  3296,   143, 21323,   116,   158,   132, 14849, 22902,   108,\n",
       "           127,  6506,   747,  2261,   141,   109,  7777, 14849,  3296,   120,\n",
       "         11190,  2517, 13666,   107,   983,   110, 45884,   117,   451,   124,\n",
       "           114,   949,   113,  2064,  2022,   132, 11406,   568,  4958, 21708,\n",
       "           108,   162, 20910,   861,   109, 21708,   115,   114,  7777,  2037,\n",
       "           107,  1547,  1654,   108,   172,   109, 67403,   116,   115,   114,\n",
       "          7777,  2037,   108,   137, 14108,   114,  3846,   112,   176, 21708,\n",
       "           107,   983,  4958, 61017,  7183,  6466,   237,  1994,   183,   111,\n",
       "           137,  3846, 21708,  2064,   112,   126,   107,   139,   198, 41480,\n",
       "           194,   134,   114,  1654,   117,   114,   440,   344,   108,   111,\n",
       "           109,  2940,   113,   276, 61017,   117, 31295,   141,   181,   609,\n",
       "           121, 29371,  1434,   113,   109,  5906,   113,   203, 12212,   107,\n",
       "           139,  3649,   127,   568,  5198,   107, 73682,   116,   111,  5198,\n",
       "          2222,   133,   114,  1050,   120, 29117,   130,   761,  8467,   107,\n",
       "           139,  1050,  3445,   132, 14719,   109,  1881,   113,   109,  3846,\n",
       "           134,   114,  1654,   107, 73682,   116,   218,   133,   114, 10238,\n",
       "           253,   120,   114,  3846,   117,  1406,   209,   175,   109,  9413,\n",
       "          3846, 16244,   120, 10238,   107,     1]]), 'attention_mask': tensor([[1, 1, 1, 1, 1, 1, 1, 1, 1, 1, 1, 1, 1, 1, 1, 1, 1, 1, 1, 1, 1, 1, 1, 1,\n",
       "         1, 1, 1, 1, 1, 1, 1, 1, 1, 1, 1, 1, 1, 1, 1, 1, 1, 1, 1, 1, 1, 1, 1, 1,\n",
       "         1, 1, 1, 1, 1, 1, 1, 1, 1, 1, 1, 1, 1, 1, 1, 1, 1, 1, 1, 1, 1, 1, 1, 1,\n",
       "         1, 1, 1, 1, 1, 1, 1, 1, 1, 1, 1, 1, 1, 1, 1, 1, 1, 1, 1, 1, 1, 1, 1, 1,\n",
       "         1, 1, 1, 1, 1, 1, 1, 1, 1, 1, 1, 1, 1, 1, 1, 1, 1, 1, 1, 1, 1, 1, 1, 1,\n",
       "         1, 1, 1, 1, 1, 1, 1, 1, 1, 1, 1, 1, 1, 1, 1, 1, 1, 1, 1, 1, 1, 1, 1, 1,\n",
       "         1, 1, 1, 1, 1, 1, 1, 1, 1, 1, 1, 1, 1, 1, 1, 1, 1, 1, 1, 1, 1, 1, 1, 1,\n",
       "         1, 1, 1, 1, 1, 1, 1, 1, 1, 1, 1, 1, 1, 1, 1, 1, 1, 1]])}"
      ]
     },
     "execution_count": 7,
     "metadata": {},
     "output_type": "execute_result"
    },
    {
     "name": "stderr",
     "output_type": "stream",
     "text": [
      "Downloading:   0%|          | 337k/2.28G [00:12<2:55:57, 215kB/s]"
     ]
    }
   ],
   "source": [
    "# tokens"
   ]
  },
  {
   "cell_type": "code",
   "execution_count": 6,
   "metadata": {},
   "outputs": [],
   "source": [
    "# summarize\n",
    "# summary = model.generate(**tokens)\n",
    "\n",
    "pubmed_summary = model.generate(**pubmed_tokens, max_new_tokens=64)"
   ]
  },
  {
   "cell_type": "code",
   "execution_count": 7,
   "metadata": {},
   "outputs": [
    {
     "data": {
      "text/plain": [
       "{'input_ids': tensor([[16882, 14849,  3296,   143, 45884,   116,   312,   832,   705,   568,\n",
       "          14849,  3296,   143, 21323,   116,   158,   132, 14849, 22902,   108,\n",
       "            127,  6506,   747,  2261,   141,   109,  7777, 14849,  3296,   120,\n",
       "          11190,  2517, 13666,   107,   983,   110, 45884,   117,   451,   124,\n",
       "            114,   949,   113,  2064,  2022,   132, 11406,   568,  4958, 21708,\n",
       "            108,   162, 20910,   861,   109, 21708,   115,   114,  7777,  2037,\n",
       "            107,  1547,  1654,   108,   172,   109, 67403,   116,   115,   114,\n",
       "           7777,  2037,   108,   137, 14108,   114,  3846,   112,   176, 21708,\n",
       "            107,   983,  4958, 61017,  7183,  6466,   237,  1994,   183,   111,\n",
       "            137,  3846, 21708,  2064,   112,   126,   107,   139,   198, 41480,\n",
       "            194,   134,   114,  1654,   117,   114,   440,   344,   108,   111,\n",
       "            109,  2940,   113,   276, 61017,   117, 31295,   141,   181,   609,\n",
       "            121, 29371,  1434,   113,   109,  5906,   113,   203, 12212,   107,\n",
       "            139,  3649,   127,   568,  5198,   107, 73682,   116,   111,  5198,\n",
       "           2222,   133,   114,  1050,   120, 29117,   130,   761,  8467,   107,\n",
       "            139,  1050,  3445,   132, 14719,   109,  1881,   113,   109,  3846,\n",
       "            134,   114,  1654,   107, 73682,   116,   218,   133,   114, 10238,\n",
       "            253,   120,   114,  3846,   117,  1406,   209,   175,   109,  9413,\n",
       "           3846, 16244,   120, 10238,   107,     1]]),\n",
       " 'attention_mask': tensor([[1, 1, 1, 1, 1, 1, 1, 1, 1, 1, 1, 1, 1, 1, 1, 1, 1, 1, 1, 1, 1, 1, 1, 1,\n",
       "          1, 1, 1, 1, 1, 1, 1, 1, 1, 1, 1, 1, 1, 1, 1, 1, 1, 1, 1, 1, 1, 1, 1, 1,\n",
       "          1, 1, 1, 1, 1, 1, 1, 1, 1, 1, 1, 1, 1, 1, 1, 1, 1, 1, 1, 1, 1, 1, 1, 1,\n",
       "          1, 1, 1, 1, 1, 1, 1, 1, 1, 1, 1, 1, 1, 1, 1, 1, 1, 1, 1, 1, 1, 1, 1, 1,\n",
       "          1, 1, 1, 1, 1, 1, 1, 1, 1, 1, 1, 1, 1, 1, 1, 1, 1, 1, 1, 1, 1, 1, 1, 1,\n",
       "          1, 1, 1, 1, 1, 1, 1, 1, 1, 1, 1, 1, 1, 1, 1, 1, 1, 1, 1, 1, 1, 1, 1, 1,\n",
       "          1, 1, 1, 1, 1, 1, 1, 1, 1, 1, 1, 1, 1, 1, 1, 1, 1, 1, 1, 1, 1, 1, 1, 1,\n",
       "          1, 1, 1, 1, 1, 1, 1, 1, 1, 1, 1, 1, 1, 1, 1, 1, 1, 1]])}"
      ]
     },
     "execution_count": 7,
     "metadata": {},
     "output_type": "execute_result"
    }
   ],
   "source": [
    "# {**tokens}"
   ]
  },
  {
   "cell_type": "code",
   "execution_count": 8,
   "metadata": {},
   "outputs": [
    {
     "data": {
      "text/plain": [
       "tensor([[    0, 16882, 14849,  3296,   143, 45884,   116,   158,   127,  6506,\n",
       "           747,  2261,   141,   109,  7777, 14849,  3296,   120, 11190,  2517,\n",
       "         13666,   107, 16882, 14849,  3296,   143, 45884,   116,   312,   832,\n",
       "           705,   568, 14849,  3296,   143, 21323,   116,   158,   132, 14849,\n",
       "         22902,   108,   127,  6506,   747,  2261,   141,   109,  7777, 14849,\n",
       "          3296,   120, 11190,  2517, 13666,   107,     1]])"
      ]
     },
     "execution_count": 8,
     "metadata": {},
     "output_type": "execute_result"
    }
   ],
   "source": [
    "# summary"
   ]
  },
  {
   "cell_type": "code",
   "execution_count": 9,
   "metadata": {},
   "outputs": [
    {
     "data": {
      "text/plain": [
       "'Artificial neural networks (ANNs) are computing systems inspired by the biological neural networks that constitute animal brains. Artificial neural networks (ANNs), usually simply called neural networks (NNs) or neural nets, are computing systems inspired by the biological neural networks that constitute animal brains.'"
      ]
     },
     "execution_count": 9,
     "metadata": {},
     "output_type": "execute_result"
    }
   ],
   "source": [
    "# tokenizer.decode(summary[0])"
   ]
  },
  {
   "cell_type": "code",
   "execution_count": 7,
   "metadata": {},
   "outputs": [
    {
     "data": {
      "text/plain": [
       "'aim : the purpose of this paper is to give an overview on effects and applications of acetylcysteine ( cysteine ) in pain and stroke disorders and neuropathic pain and stroke.methods: the acetylcysteine ( cysteine ), which is an acetylated compound, has aroused scientific'"
      ]
     },
     "execution_count": 7,
     "metadata": {},
     "output_type": "execute_result"
    }
   ],
   "source": [
    "tokenizer.decode(pubmed_summary[0])"
   ]
  },
  {
   "cell_type": "code",
   "execution_count": null,
   "metadata": {},
   "outputs": [],
   "source": []
  },
  {
   "cell_type": "code",
   "execution_count": null,
   "metadata": {},
   "outputs": [],
   "source": []
  }
 ],
 "metadata": {
  "kernelspec": {
   "display_name": "Python 3.10.6 ('venv': venv)",
   "language": "python",
   "name": "python3"
  },
  "language_info": {
   "codemirror_mode": {
    "name": "ipython",
    "version": 3
   },
   "file_extension": ".py",
   "mimetype": "text/x-python",
   "name": "python",
   "nbconvert_exporter": "python",
   "pygments_lexer": "ipython3",
   "version": "3.10.6"
  },
  "orig_nbformat": 4,
  "vscode": {
   "interpreter": {
    "hash": "42bbe9452e50f3b6ad24d442f92958e6bcada4d48413aa5058f3fa7371574ea9"
   }
  }
 },
 "nbformat": 4,
 "nbformat_minor": 2
}

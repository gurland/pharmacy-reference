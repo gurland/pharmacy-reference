{
 "cells": [
  {
   "cell_type": "code",
   "execution_count": null,
   "metadata": {},
   "outputs": [],
   "source": [
    "# Testing BigBird Pegasus model for summarization"
   ]
  },
  {
   "cell_type": "code",
   "execution_count": 3,
   "metadata": {},
   "outputs": [
    {
     "name": "stdout",
     "output_type": "stream",
     "text": [
      "Looking in indexes: https://pypi.org/simple, https://download.pytorch.org/whl/cpu\n",
      "Requirement already satisfied: torch in /home/kiririno/dev/pharmacy-reference/text_summarizer_service/venv/lib/python3.10/site-packages (1.12.1+cpu)\n",
      "Requirement already satisfied: torchvision in /home/kiririno/dev/pharmacy-reference/text_summarizer_service/venv/lib/python3.10/site-packages (0.13.1+cpu)\n",
      "Requirement already satisfied: torchaudio in /home/kiririno/dev/pharmacy-reference/text_summarizer_service/venv/lib/python3.10/site-packages (0.12.1+cpu)\n",
      "Requirement already satisfied: typing-extensions in /home/kiririno/dev/pharmacy-reference/text_summarizer_service/venv/lib/python3.10/site-packages (from torch) (4.3.0)\n",
      "Requirement already satisfied: pillow!=8.3.*,>=5.3.0 in /home/kiririno/dev/pharmacy-reference/text_summarizer_service/venv/lib/python3.10/site-packages (from torchvision) (9.2.0)\n",
      "Requirement already satisfied: numpy in /home/kiririno/dev/pharmacy-reference/text_summarizer_service/venv/lib/python3.10/site-packages (from torchvision) (1.23.3)\n",
      "Requirement already satisfied: requests in /home/kiririno/dev/pharmacy-reference/text_summarizer_service/venv/lib/python3.10/site-packages (from torchvision) (2.28.1)\n",
      "Requirement already satisfied: certifi>=2017.4.17 in /home/kiririno/dev/pharmacy-reference/text_summarizer_service/venv/lib/python3.10/site-packages (from requests->torchvision) (2022.9.14)\n",
      "Requirement already satisfied: idna<4,>=2.5 in /home/kiririno/dev/pharmacy-reference/text_summarizer_service/venv/lib/python3.10/site-packages (from requests->torchvision) (3.4)\n",
      "Requirement already satisfied: charset-normalizer<3,>=2 in /home/kiririno/dev/pharmacy-reference/text_summarizer_service/venv/lib/python3.10/site-packages (from requests->torchvision) (2.1.1)\n",
      "Requirement already satisfied: urllib3<1.27,>=1.21.1 in /home/kiririno/dev/pharmacy-reference/text_summarizer_service/venv/lib/python3.10/site-packages (from requests->torchvision) (1.26.12)\n",
      "\u001b[33mWARNING: You are using pip version 21.3.1; however, version 22.2.2 is available.\n",
      "You should consider upgrading via the '/home/kiririno/dev/pharmacy-reference/text_summarizer_service/venv/bin/python -m pip install --upgrade pip' command.\u001b[0m\n",
      "Note: you may need to restart the kernel to use updated packages.\n",
      "Requirement already satisfied: transformers in /home/kiririno/dev/pharmacy-reference/text_summarizer_service/venv/lib/python3.10/site-packages (4.22.1)\n",
      "Requirement already satisfied: requests in /home/kiririno/dev/pharmacy-reference/text_summarizer_service/venv/lib/python3.10/site-packages (from transformers) (2.28.1)\n",
      "Requirement already satisfied: tokenizers!=0.11.3,<0.13,>=0.11.1 in /home/kiririno/dev/pharmacy-reference/text_summarizer_service/venv/lib/python3.10/site-packages (from transformers) (0.12.1)\n",
      "Requirement already satisfied: pyyaml>=5.1 in /home/kiririno/dev/pharmacy-reference/text_summarizer_service/venv/lib/python3.10/site-packages (from transformers) (6.0)\n",
      "Requirement already satisfied: regex!=2019.12.17 in /home/kiririno/dev/pharmacy-reference/text_summarizer_service/venv/lib/python3.10/site-packages (from transformers) (2022.9.13)\n",
      "Requirement already satisfied: tqdm>=4.27 in /home/kiririno/dev/pharmacy-reference/text_summarizer_service/venv/lib/python3.10/site-packages (from transformers) (4.64.1)\n",
      "Requirement already satisfied: filelock in /home/kiririno/dev/pharmacy-reference/text_summarizer_service/venv/lib/python3.10/site-packages (from transformers) (3.8.0)\n",
      "Requirement already satisfied: packaging>=20.0 in /home/kiririno/dev/pharmacy-reference/text_summarizer_service/venv/lib/python3.10/site-packages (from transformers) (21.3)\n",
      "Requirement already satisfied: huggingface-hub<1.0,>=0.9.0 in /home/kiririno/dev/pharmacy-reference/text_summarizer_service/venv/lib/python3.10/site-packages (from transformers) (0.9.1)\n",
      "Requirement already satisfied: numpy>=1.17 in /home/kiririno/dev/pharmacy-reference/text_summarizer_service/venv/lib/python3.10/site-packages (from transformers) (1.23.3)\n",
      "Requirement already satisfied: typing-extensions>=3.7.4.3 in /home/kiririno/dev/pharmacy-reference/text_summarizer_service/venv/lib/python3.10/site-packages (from huggingface-hub<1.0,>=0.9.0->transformers) (4.3.0)\n",
      "Requirement already satisfied: pyparsing!=3.0.5,>=2.0.2 in /home/kiririno/dev/pharmacy-reference/text_summarizer_service/venv/lib/python3.10/site-packages (from packaging>=20.0->transformers) (3.0.9)\n",
      "Requirement already satisfied: idna<4,>=2.5 in /home/kiririno/dev/pharmacy-reference/text_summarizer_service/venv/lib/python3.10/site-packages (from requests->transformers) (3.4)\n",
      "Requirement already satisfied: charset-normalizer<3,>=2 in /home/kiririno/dev/pharmacy-reference/text_summarizer_service/venv/lib/python3.10/site-packages (from requests->transformers) (2.1.1)\n",
      "Requirement already satisfied: certifi>=2017.4.17 in /home/kiririno/dev/pharmacy-reference/text_summarizer_service/venv/lib/python3.10/site-packages (from requests->transformers) (2022.9.14)\n",
      "Requirement already satisfied: urllib3<1.27,>=1.21.1 in /home/kiririno/dev/pharmacy-reference/text_summarizer_service/venv/lib/python3.10/site-packages (from requests->transformers) (1.26.12)\n",
      "\u001b[33mWARNING: You are using pip version 21.3.1; however, version 22.2.2 is available.\n",
      "You should consider upgrading via the '/home/kiririno/dev/pharmacy-reference/text_summarizer_service/venv/bin/python -m pip install --upgrade pip' command.\u001b[0m\n",
      "Note: you may need to restart the kernel to use updated packages.\n",
      "Requirement already satisfied: sentencepiece in /home/kiririno/dev/pharmacy-reference/text_summarizer_service/venv/lib/python3.10/site-packages (0.1.97)\n",
      "\u001b[33mWARNING: You are using pip version 21.3.1; however, version 22.2.2 is available.\n",
      "You should consider upgrading via the '/home/kiririno/dev/pharmacy-reference/text_summarizer_service/venv/bin/python -m pip install --upgrade pip' command.\u001b[0m\n",
      "Note: you may need to restart the kernel to use updated packages.\n"
     ]
    }
   ],
   "source": [
    "%pip install torch torchvision torchaudio --extra-index-url https://download.pytorch.org/whl/cpu\n",
    "%pip install transformers\n",
    "%pip install sentencepiece"
   ]
  },
  {
   "cell_type": "code",
   "execution_count": 1,
   "metadata": {},
   "outputs": [],
   "source": [
    "from transformers import BigBirdPegasusForConditionalGeneration, AutoTokenizer"
   ]
  },
  {
   "cell_type": "code",
   "execution_count": 2,
   "metadata": {},
   "outputs": [],
   "source": [
    "tokenizer = AutoTokenizer.from_pretrained(\"google/bigbird-pegasus-large-pubmed\")"
   ]
  },
  {
   "cell_type": "code",
   "execution_count": 3,
   "metadata": {},
   "outputs": [],
   "source": [
    "model = BigBirdPegasusForConditionalGeneration.from_pretrained(\"google/bigbird-pegasus-large-pubmed\", attention_type=\"original_full\", block_size=16, num_random_blocks=2)"
   ]
  },
  {
   "cell_type": "code",
   "execution_count": 4,
   "metadata": {},
   "outputs": [],
   "source": [
    "pubmed_abstract_text = \"\"\"\n",
    "It is well-known that placebo is a substance without medical effects, which benefits the health status because of the patient's belief that the substance is effective and that the nocebo is defined as a substance without medical effects but which worsenes the health status of the person taking it by the negative beliefs and expectations of the patient. Starting with the history of the placebo effect and giving a review of the most significant studies reporting about the placebo effect from 1939-2013 it was our intention to give the all-around look on this phenomena discussing the neurobiological and other theories of its origin and concentrating especially on the field of psychiatry and finally coming to conclusions regarding the conductance of clinical trials and ethics. Regarding psychiatry, the placebo effect has a substantial role in most of psychiatric conditions including depression, anxiety, addictions, and contrary to what may have been expected, schizophrenia. Likewise, the nocebo effect is not to be neglected as the studies are being conducted to identify the factors causing it so it could be prevented.\n",
    "\"\"\""
   ]
  },
  {
   "cell_type": "code",
   "execution_count": 5,
   "metadata": {},
   "outputs": [],
   "source": [
    "pubmed_tokens = tokenizer(pubmed_abstract_text, truncation=True, padding=\"longest\", return_tensors=\"pt\")"
   ]
  },
  {
   "cell_type": "code",
   "execution_count": 6,
   "metadata": {},
   "outputs": [
    {
     "name": "stderr",
     "output_type": "stream",
     "text": [
      "/home/kiririno/dev/pharmacy-reference/text_summarizer_service/venv/lib64/python3.10/site-packages/transformers/generation_utils.py:1227: UserWarning: Neither `max_length` nor `max_new_tokens` has been set, `max_length` will default to 256 (`self.config.max_length`). Controlling `max_length` via the config is deprecated and `max_length` will be removed from the config in v5 of Transformers -- we recommend using `max_new_tokens` to control the maximum length of the generation.\n",
      "  warnings.warn(\n"
     ]
    }
   ],
   "source": [
    "pubmed_summary = model.generate(**pubmed_tokens)"
   ]
  },
  {
   "cell_type": "code",
   "execution_count": 7,
   "metadata": {},
   "outputs": [
    {
     "data": {
      "text/plain": [
       "\"<s> objective : the placebo effect is well - known that placebo is a substance without medical effects, which benefits the health status because of the patient's belief that the substance is effective and that the nocebo is defined as a substance without medical effects, which worsenes the health status of the person taking it by the negative beliefs and expectations of the patient with the history of placebo effect and giving the most significant studies reporting about the placebo effect from 1939-2013.materials and methods : in this review it was our intention to give the all-around look on this phenomena discussing the neurobiological and other theories of its origin and concentrating especially on the field of psychiatry and finally coming to conclusions regarding the conductance of clinical trials and ethics.results and conclusion : the placebo effect has substantial role in psychiatric conditions including depression, addictions and contrary to what was expected of it may identify the factors causing it may identify most significant studies reporting about the placebo effect are not to be neglected as it could be prevented.</s>\""
      ]
     },
     "execution_count": 7,
     "metadata": {},
     "output_type": "execute_result"
    }
   ],
   "source": [
    "tokenizer.decode(pubmed_summary[0])"
   ]
  },
  {
   "cell_type": "code",
   "execution_count": 8,
   "metadata": {},
   "outputs": [
    {
     "data": {
      "text/plain": [
       "[\"<s> objective : the placebo effect is well - known that placebo is a substance without medical effects, which benefits the health status because of the patient's belief that the substance is effective and that the nocebo is defined as a substance without medical effects, which worsenes the health status of the person taking it by the negative beliefs and expectations of the patient with the history of placebo effect and giving the most significant studies reporting about the placebo effect from 1939-2013.materials and methods : in this review it was our intention to give the all-around look on this phenomena discussing the neurobiological and other theories of its origin and concentrating especially on the field of psychiatry and finally coming to conclusions regarding the conductance of clinical trials and ethics.results and conclusion : the placebo effect has substantial role in psychiatric conditions including depression, addictions and contrary to what was expected of it may identify the factors causing it may identify most significant studies reporting about the placebo effect are not to be neglected as it could be prevented.</s>\"]"
      ]
     },
     "execution_count": 8,
     "metadata": {},
     "output_type": "execute_result"
    }
   ],
   "source": [
    "tokenizer.batch_decode(pubmed_summary)"
   ]
  },
  {
   "cell_type": "code",
   "execution_count": null,
   "metadata": {},
   "outputs": [],
   "source": []
  }
 ],
 "metadata": {
  "kernelspec": {
   "display_name": "Python 3.10.6 ('venv': venv)",
   "language": "python",
   "name": "python3"
  },
  "language_info": {
   "codemirror_mode": {
    "name": "ipython",
    "version": 3
   },
   "file_extension": ".py",
   "mimetype": "text/x-python",
   "name": "python",
   "nbconvert_exporter": "python",
   "pygments_lexer": "ipython3",
   "version": "3.10.6"
  },
  "orig_nbformat": 4,
  "vscode": {
   "interpreter": {
    "hash": "2fbae65443b1dc09d1f5444ce499df7d4376cffe5f4de6479f3d91bafbc1cea1"
   }
  }
 },
 "nbformat": 4,
 "nbformat_minor": 2
}
